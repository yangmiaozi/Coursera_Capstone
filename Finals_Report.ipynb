{
 "cells": [
  {
   "cell_type": "markdown",
   "metadata": {},
   "source": [
    "# CAPSTONE PROJECT: BATTLE OF THE NEIGHBORHOODS"
   ]
  },
  {
   "cell_type": "markdown",
   "metadata": {},
   "source": [
    "Singapore Visitors Venue Recommendation"
   ]
  },
  {
   "cell_type": "markdown",
   "metadata": {},
   "source": [
    "I. PURPOSE"
   ]
  },
  {
   "cell_type": "markdown",
   "metadata": {},
   "source": [
    "This document provides the details of my final peer reviewed assignment for the IBM Data Science Professional Certificate program – Coursera Capstone."
   ]
  },
  {
   "cell_type": "markdown",
   "metadata": {},
   "source": [
    "II. INTRODUCTION"
   ]
  },
  {
   "cell_type": "markdown",
   "metadata": {},
   "source": [
    "Singapore is a small country but now becomes one of the most popular countries in East Asia. There are a lot of websites where travelers can check and retrieve recommendations of places to stay or visit like Airbnb and Booking. However, most of these websites provides recommendation simply based on usual tourist attractions or key residential areas that are mostly expensive or already known for travelers based on certain keywords like \"Hotel\", or \"Backpackers\" etc. \n",
    "\n",
    "The intention of this project is to collect data from Singapore open data sources and FourSquare API venue recommendations and provide a data driven recommendation that can supplement the recommendation with statistical data.\n",
    "\n",
    "The sample recommender system provides the following use case scenario: A person planning to visit Singapore as a Tourist and looking for a reasonable accommodation. The person wants to receive venue recommendation where he/she can stay or rent an HDB apartment with close proximity to places of interest or search category option. The recommendation should not only present the most viable option, but also present a comparison table of all possible town venues.\n",
    "\n",
    "The data used will include: Singapore Median Rental Prices by town. Popular Food venues in the vicinity. Food Venue Category. Outdoors and Recreation Nightlife Nearby Schools."
   ]
  },
  {
   "cell_type": "markdown",
   "metadata": {},
   "source": [
    "III. DATA"
   ]
  },
  {
   "cell_type": "markdown",
   "metadata": {},
   "source": [
    "This demonstration will make use of the following data sources: Singapore Towns and median residential rental prices.\n",
    "Data will be retrieved from Singapore open dataset from median rent by town and flattype from https://data.gov.sg website.\n",
    "The original data source contains median rental prices of Singapore HDB units from 2005 up to 2nd quarter of 2018. \n",
    "For this demonstration, I will simplify the analysis by using the average rental prices of all available flat type.\n",
    "Singapore Towns location data retrieved using Google maps API.\n",
    "Data coordinates of Town Venues will be retrieved using google API. \n",
    "MRT stations coordinate as a more important center of for all towns included in venue recommendations.\n",
    "Singapore Top Venue Recommendations from FourSquare API (FourSquare website: www.foursquare.com). To explore neighborhoods in selected towns in Singapore. The Foursquare explore function will be used to get the most common venue categories in each neighborhood, and then use this feature to group the neighborhoods into clusters. The following information are retrieved on the first query: Venue ID. Venue Name. Coordinates : Latitude and Longitude. Category Name\n",
    "Another venue query will be performed to retrieve venue ratings for each location."
   ]
  },
  {
   "cell_type": "markdown",
   "metadata": {},
   "source": [
    "IV. METHODOLOGY"
   ]
  },
  {
   "cell_type": "markdown",
   "metadata": {},
   "source": [
    "Singapore Towns List with median residential rental prices.\n",
    "The source data contains median rental prices of Singapore HDB units from 2005 up to\n",
    "2nd quarter of 2018. I will retrieve the most recent recorded rental prices from this data\n",
    "source (Q2 2018) being the most relevant price available at this time. For this\n",
    "demonstration, I will simplify the analysis by using the average rental prices of all\n",
    "available flat type.\n",
    "Data Cleanup and re-grouping. The retrieved table contains some un-wanted entries\n",
    "and needs some cleanup.\n",
    "The following tasks will be performed:\n",
    "1. Drop/ignore cells with missing data.\n",
    "2. Use most current data record.\n",
    "3. Fix data types. Post Processed Singapore towns list with and median residential rental prices\n",
    "4. Adding geographical coordinates of each town location."
   ]
  },
  {
   "cell_type": "markdown",
   "metadata": {},
   "source": [
    "2. Retrieve town coordinates."
   ]
  },
  {
   "cell_type": "markdown",
   "metadata": {},
   "source": [
    "Google API was be used to retrieve the coordinates (latitude and longitude of each town\n",
    "centers. For this exercise, I just used the MRT stations as the center points of each\n",
    "evaluated towns. The town coordinates will be used in retrieval of Foursquare API\n",
    "location data."
   ]
  },
  {
   "cell_type": "raw",
   "metadata": {},
   "source": [
    "singapore_average_rental_prices_by_town['Latitude'] = 0.0\n",
    "singapore_average_rental_prices_by_town['Longitude'] = 0.0\n",
    "for idx,town in singapore_average_rental_prices_by_town['Town'].iteritems():\n",
    "    address = town + \" MRT station, Singapore\" ;\n",
    "    url = 'https://maps.googleapis.com/maps/api/geocode/json?address={}&key={}'.format(address, google_key)\n",
    "    lat = requests.get(url).json()[\"results\"][0][\"geometry\"][\"location\"]['lat']\n",
    "    lng = requests.get(url).json()[\"results\"][0][\"geometry\"][\"location\"]['lng']\n",
    "    singapore_average_rental_prices_by_town.loc[idx,'Latitude'] = lat\n",
    "    singapore_average_rental_prices_by_town.loc[idx,'Longitude'] = lng"
   ]
  },
  {
   "cell_type": "markdown",
   "metadata": {},
   "source": [
    "V. Segmenting and Clustering Towns in Singapore"
   ]
  },
  {
   "cell_type": "markdown",
   "metadata": {},
   "source": [
    "Retrieving FourSquare Places of interest."
   ]
  },
  {
   "cell_type": "markdown",
   "metadata": {},
   "source": [
    "Using the Foursquare API, the explore API function was be used to get the most\n",
    "common venue categories in each neighborhood, and then used this feature to group\n",
    "the neighborhoods into clusters. The k-means clustering algorithm was used for the\n",
    "analysis. Fnally, the Folium library is used to visualize the recommended neighborhoods\n",
    "and their emerging clusters.\n",
    "In the ipynb notebook, the function getNearbyVenues extracts the following\n",
    "information for the dataframe it generates:"
   ]
  },
  {
   "cell_type": "markdown",
   "metadata": {},
   "source": [
    "1. Venue ID\n",
    "2. Venue Name\n",
    "3. Coordinates : Latitude and Longitude\n",
    "4. Category Name"
   ]
  },
  {
   "cell_type": "markdown",
   "metadata": {},
   "source": [
    "The function getVenuesByCategory performs the following:\n",
    "1. Category based venue search to simulate user venue searches based on certain places\n",
    "of interest. This search extracts the following information:\n",
    "    1. Venue ID\n",
    "    2. Venue Name\n",
    "    3. Coordinates : Latitude and Longitude\n",
    "    4. Category Name\n",
    "2. For each retrieved venueID, retrieve the venues category rating."
   ]
  },
  {
   "cell_type": "markdown",
   "metadata": {},
   "source": [
    "The generated data frame in the second function contains the following column:"
   ]
  },
  {
   "cell_type": "markdown",
   "metadata": {},
   "source": [
    "Search Venues with recommendations on : Food Venues (Restaurants,Fastfoods, etc.)\n",
    "To demonstrate user selection of places of interest, We will use this Food Venues\n",
    "category in our further analysis.\n",
    "This Foursquare search is expected to collect venues in the following category:\n",
    "1. category\n",
    "2. Food Courts\n",
    "3. Coffee Shops\n",
    "4. Restaurants\n",
    "5. Cafés\n",
    "6. Other food venues\n",
    "\n",
    "I used the FourSquare API to retrieve venue scores of locations. Note that there is max\n",
    "query limit of 50 in FourSquare API for free subscription. So use or query carefully."
   ]
  },
  {
   "cell_type": "markdown",
   "metadata": {},
   "source": [
    "Data cleanup un-needed entries\n",
    "1. Eliminate possible venue duplicates.\n",
    "2. Improve the quality of our venue selection by removing venues with no ratings or 0.0"
   ]
  },
  {
   "cell_type": "raw",
   "metadata": {},
   "source": [
    "# Column Name Description\n",
    "Town Town Name\n",
    "Town Latitude Towns MRT station Latitude\n",
    "Town Longitude Town MRT station Latitude\n",
    "VenueID FourSquare Venue ID\n",
    "VenueName Venue Name\n",
    "score FourSquare Venue user rating\n",
    "category Category group name\n",
    "catID Category ID\n",
    "latitude Venue Location - latitude\n",
    "longitude Venue Location - longitude"
   ]
  },
  {
   "cell_type": "markdown",
   "metadata": {},
   "source": [
    "Analyze Each Singapore Town nearby recommended venues\n",
    "\n",
    "Technique : One Hot Encoding"
   ]
  },
  {
   "cell_type": "raw",
   "metadata": {},
   "source": [
    "# one hot encoding\n",
    "sg_onehot = pd.get_dummies(singapore_town_venues[['category']], prefix=\"\",\n",
    "prefix_sep=\"\")\n",
    "# add Town column back to dataframe\n",
    "sg_onehot['Town'] = singapore_town_venues['Town']\n",
    "# move neighborhood column to the first column\n",
    "fixed_columns = [sg_onehot.columns[-1]] + list(sg_onehot.columns[:-1])\n",
    "sg_onehot = sg_onehot[fixed_columns]\n",
    "# Check returned one hot encoding data:\n",
    "print('One hot encoding returned \"{}\" rows.'.format(sg_onehot.shape[0]))\n",
    "# Regroup rows by town and mean of frequency occurrence per category.\n",
    "sg_grouped = sg_onehot.groupby('Town').mean().reset_index()\n",
    "print('One hot encoding re-group returned \"{}\" rows.'.format(sg_grouped.shape[0]))\n",
    "sg_grouped.head()\n",
    "One hot encoding returned \"644\" rows.\n",
    "One hot encoding re-group returned \"25\" rows."
   ]
  },
  {
   "cell_type": "markdown",
   "metadata": {},
   "source": [
    "Analysis of Singapore Town most visited venues"
   ]
  },
  {
   "cell_type": "raw",
   "metadata": {},
   "source": [
    "# Town=< ANG MO KIO >\n",
    "                         venue  freq\n",
    "0                  Food Courts  0.20\n",
    "1        Fast Food Restaurants  0.13\n",
    "2             Bubble Tea Shops  0.10\n",
    "3                       Diners  0.03\n",
    "4  Modern European Restaurants  0.03\n",
    "5            Ramen Restaurants  0.03\n",
    "6                  Restaurants  0.03\n",
    "7                   Pharmacies  0.03\n",
    "8         Japanese Restaurants  0.03\n",
    "9              Sandwich Places  0.03\n",
    "\n",
    "\n",
    "# Town=< BEDOK >\n",
    "                            venue  freq\n",
    "0                     Food Courts  0.13\n",
    "1            Japanese Restaurants  0.10\n",
    "2                    Coffee Shops  0.07\n",
    "3                   Noodle Houses  0.07\n",
    "4           Fast Food Restaurants  0.07\n",
    "5                 Ice Cream Shops  0.03\n",
    "6  Vegetarian / Vegan Restaurants  0.03\n",
    "7                Thai Restaurants  0.03\n",
    "8               Sushi Restaurants  0.03\n",
    "9                    Snack Places  0.03\n",
    "\n",
    "\n",
    "# Town=< BISHAN >\n",
    "                   venue  freq\n",
    "0    Chinese Restaurants  0.13\n",
    "1           Coffee Shops  0.13\n",
    "2   Japanese Restaurants  0.10\n",
    "3            Food Courts  0.10\n",
    "4                  Cafés  0.07\n",
    "5  Fast Food Restaurants  0.07\n",
    "6       Bubble Tea Shops  0.07\n",
    "7    Seafood Restaurants  0.03\n",
    "8    Shaanxi Restaurants  0.03\n",
    "9     Hotpot Restaurants  0.03\n",
    "\n",
    "\n",
    "# Town=< BUKIT BATOK >\n",
    "                   venue  freq\n",
    "0            Food Courts  0.23\n",
    "1    Chinese Restaurants  0.10\n",
    "2           Coffee Shops  0.10\n",
    "3        Ice Cream Shops  0.07\n",
    "4      Asian Restaurants  0.07\n",
    "5       Bubble Tea Shops  0.07\n",
    "6  Fast Food Restaurants  0.07\n",
    "7    Italian Restaurants  0.03\n",
    "8     Indian Restaurants  0.03\n",
    "9         Grocery Stores  0.03\n",
    "\n",
    "\n",
    "# Town=< BUKIT MERAH >\n",
    "                  venue  freq\n",
    "0                 Cafés  0.20\n",
    "1   Chinese Restaurants  0.17\n",
    "2              Bakeries  0.10\n",
    "3           Food Courts  0.10\n",
    "4     Asian Restaurants  0.07\n",
    "5          Coffee Shops  0.07\n",
    "6  American Restaurants  0.03\n",
    "7           Soup Places  0.03\n",
    "8   Seafood Restaurants  0.03\n",
    "9    Korean Restaurants  0.03\n",
    "\n",
    "\n",
    "# Town=< BUKIT PANJANG >\n",
    "                            venue  freq\n",
    "0                   Noodle Houses  0.13\n",
    "1                     Food Courts  0.13\n",
    "2             Chinese Restaurants  0.10\n",
    "3                    Coffee Shops  0.10\n",
    "4            American Restaurants  0.07\n",
    "5             Seafood Restaurants  0.07\n",
    "6                     Food Trucks  0.07\n",
    "7  Vegetarian / Vegan Restaurants  0.03\n",
    "8                    Salad Places  0.03\n",
    "9                          Plazas  0.03\n",
    "\n",
    "\n",
    "# Town=< CENTRAL >\n",
    "                   venue  freq\n",
    "0            Food Courts  0.13\n",
    "1    Seafood Restaurants  0.10\n",
    "2                  Cafés  0.10\n",
    "3           Coffee Shops  0.10\n",
    "4       Bubble Tea Shops  0.07\n",
    "5  Fast Food Restaurants  0.07\n",
    "6   Dumpling Restaurants  0.03\n",
    "7    Chinese Restaurants  0.03\n",
    "8    Italian Restaurants  0.03\n",
    "9           Pizza Places  0.03\n",
    "\n",
    "\n",
    "# Town=< CHOA CHU KANG >\n",
    "                   venue  freq\n",
    "0  Fast Food Restaurants  0.13\n",
    "1    Chinese Restaurants  0.10\n",
    "2            Food Courts  0.10\n",
    "3      Asian Restaurants  0.10\n",
    "4          Dessert Shops  0.10\n",
    "5            Restaurants  0.07\n",
    "6      Sushi Restaurants  0.07\n",
    "7           Coffee Shops  0.07\n",
    "8                  Cafés  0.07\n",
    "9                 Diners  0.03\n",
    "\n",
    "\n",
    "# Town=< CLEMENTI >\n",
    "                   venue  freq\n",
    "0            Food Courts  0.27\n",
    "1    Chinese Restaurants  0.07\n",
    "2  Fast Food Restaurants  0.07\n",
    "3          Dessert Shops  0.07\n",
    "4           Coffee Shops  0.07\n",
    "5            Soup Places  0.07\n",
    "6   American Restaurants  0.03\n",
    "7         Grocery Stores  0.03\n",
    "8    Dim Sum Restaurants  0.03\n",
    "9           Pastry Shops  0.03\n",
    "\n",
    "\n",
    "# Town=< GEYLANG >\n",
    "                            venue  freq\n",
    "0             Chinese Restaurants  0.20\n",
    "1           Fast Food Restaurants  0.13\n",
    "2                     Food Courts  0.10\n",
    "3  Vegetarian / Vegan Restaurants  0.10\n",
    "4                   Noodle Houses  0.10\n",
    "5                      BBQ Joints  0.07\n",
    "6               Asian Restaurants  0.07\n",
    "7                   Dessert Shops  0.07\n",
    "8           Cantonese Restaurants  0.03\n",
    "9             Seafood Restaurants  0.03\n",
    "\n",
    "\n",
    "# Town=< HOUGANG >\n",
    "                   venue  freq\n",
    "0           Coffee Shops  0.23\n",
    "1          Noodle Houses  0.10\n",
    "2            Food Courts  0.10\n",
    "3            Steakhouses  0.07\n",
    "4  Fast Food Restaurants  0.07\n",
    "5      Asian Restaurants  0.07\n",
    "6        Sandwich Places  0.03\n",
    "7    Chinese Restaurants  0.03\n",
    "8                  Cafés  0.03\n",
    "9        Ice Cream Shops  0.03\n",
    "\n",
    "\n",
    "# Town=< JURONG EAST >\n",
    "                   venue  freq\n",
    "0  Fast Food Restaurants  0.13\n",
    "1    Chinese Restaurants  0.13\n",
    "2            Food Courts  0.10\n",
    "3       Thai Restaurants  0.07\n",
    "4           Coffee Shops  0.07\n",
    "5                  Cafés  0.07\n",
    "6   American Restaurants  0.03\n",
    "7           Snack Places  0.03\n",
    "8    Italian Restaurants  0.03\n",
    "9     Hotpot Restaurants  0.03\n",
    "\n",
    "\n",
    "# Town=< JURONG WEST >\n",
    "                        venue  freq\n",
    "0                 Food Courts  0.13\n",
    "1       Fast Food Restaurants  0.13\n",
    "2        Japanese Restaurants  0.10\n",
    "3           Asian Restaurants  0.10\n",
    "4         Chinese Restaurants  0.07\n",
    "5          Korean Restaurants  0.07\n",
    "6                       Cafés  0.07\n",
    "7  Japanese Curry Restaurants  0.03\n",
    "8       Hong Kong Restaurants  0.03\n",
    "9               Noodle Houses  0.03\n",
    "\n",
    "\n",
    "# Town=< KALLANG/WHAMPOA >\n",
    "                   venue  freq\n",
    "0    Chinese Restaurants  0.23\n",
    "1            Food Courts  0.13\n",
    "2  Fast Food Restaurants  0.07\n",
    "3      Asian Restaurants  0.07\n",
    "4             Cafeterias  0.07\n",
    "5           Coffee Shops  0.07\n",
    "6            Soup Places  0.03\n",
    "7            Restaurants  0.03\n",
    "8             Juice Bars  0.03\n",
    "9    Seafood Restaurants  0.03\n",
    "\n",
    "\n",
    "# Town=< MARINE PARADE >\n",
    "                 venue  freq\n",
    "0         Coffee Shops  0.13\n",
    "1             Bakeries  0.07\n",
    "2              Bistros  0.07\n",
    "3        Noodle Houses  0.07\n",
    "4  Seafood Restaurants  0.07\n",
    "5          Food Courts  0.07\n",
    "6                Cafés  0.07\n",
    "7  Chinese Restaurants  0.07\n",
    "8      Ice Cream Shops  0.03\n",
    "9        Dessert Shops  0.03\n",
    "\n",
    "\n",
    "# Town=< PASIR RIS >\n",
    "                   venue  freq\n",
    "0                  Cafés  0.13\n",
    "1               Bakeries  0.07\n",
    "2           Snack Places  0.07\n",
    "3            Food Courts  0.07\n",
    "4  Fast Food Restaurants  0.07\n",
    "5    Chinese Restaurants  0.07\n",
    "6           Coffee Shops  0.07\n",
    "7   American Restaurants  0.03\n",
    "8                 Diners  0.03\n",
    "9      Sushi Restaurants  0.03\n",
    "\n",
    "\n",
    "# Town=< PUNGGOL >\n",
    "                   venue  freq\n",
    "0    Chinese Restaurants  0.13\n",
    "1            Food Courts  0.13\n",
    "2                  Cafés  0.10\n",
    "3  Fast Food Restaurants  0.07\n",
    "4        Ice Cream Shops  0.03\n",
    "5   Japanese Restaurants  0.03\n",
    "6          Noodle Houses  0.03\n",
    "7           Pizza Places  0.03\n",
    "8    Frozen Yogurt Shops  0.03\n",
    "9            Restaurants  0.03\n",
    "\n",
    "\n",
    "# Town=< QUEENSTOWN >\n",
    "                            venue  freq\n",
    "0             Chinese Restaurants  0.23\n",
    "1                     Food Courts  0.17\n",
    "2                           Cafés  0.17\n",
    "3                   Noodle Houses  0.07\n",
    "4              Indian Restaurants  0.07\n",
    "5                   Dessert Shops  0.07\n",
    "6             Italian Restaurants  0.03\n",
    "7  Vegetarian / Vegan Restaurants  0.03\n",
    "8                Thai Restaurants  0.03\n",
    "9                 Breakfast Spots  0.03\n",
    "\n",
    "\n",
    "# Town=< SEMBAWANG >\n",
    "                   venue  freq\n",
    "0           Coffee Shops  0.20\n",
    "1      Asian Restaurants  0.10\n",
    "2            Food Courts  0.10\n",
    "3  Fast Food Restaurants  0.07\n",
    "4             BBQ Joints  0.07\n",
    "5            Soup Places  0.03\n",
    "6             Juice Bars  0.03\n",
    "7   Japanese Restaurants  0.03\n",
    "8     Hotpot Restaurants  0.03\n",
    "9      Halal Restaurants  0.03\n",
    "\n",
    "\n",
    "# Town=< SENGKANG >\n",
    "                   venue  freq\n",
    "0                  Cafés  0.17\n",
    "1               Bakeries  0.10\n",
    "2  Fast Food Restaurants  0.10\n",
    "3            Food Courts  0.07\n",
    "4           Coffee Shops  0.07\n",
    "5             Cafeterias  0.07\n",
    "6    Chinese Restaurants  0.07\n",
    "7     Korean Restaurants  0.03\n",
    "8    Frozen Yogurt Shops  0.03\n",
    "9      Ramen Restaurants  0.03\n",
    "\n",
    "\n",
    "# Town=< SERANGOON >\n",
    "                        venue  freq\n",
    "0       Fast Food Restaurants  0.17\n",
    "1                Coffee Shops  0.10\n",
    "2                       Cafés  0.10\n",
    "3        Japanese Restaurants  0.07\n",
    "4                 Food Courts  0.07\n",
    "5        American Restaurants  0.03\n",
    "6         Chinese Restaurants  0.03\n",
    "7  Japanese Curry Restaurants  0.03\n",
    "8          Indian Restaurants  0.03\n",
    "9               Noodle Houses  0.03\n",
    "\n",
    "\n",
    "# Town=< TAMPINES >\n",
    "                     venue  freq\n",
    "0              Food Courts  0.23\n",
    "1             Coffee Shops  0.13\n",
    "2    Fast Food Restaurants  0.10\n",
    "3       Hotpot Restaurants  0.07\n",
    "4     Dumpling Restaurants  0.03\n",
    "5        Asian Restaurants  0.03\n",
    "6       French Restaurants  0.03\n",
    "7   Portuguese Restaurants  0.03\n",
    "8              Restaurants  0.03\n",
    "9  Shabu-Shabu Restaurants  0.03\n",
    "\n",
    "\n",
    "# Town=< TOA PAYOH >\n",
    "                      venue  freq\n",
    "0              Coffee Shops  0.23\n",
    "1               Food Courts  0.13\n",
    "2                     Cafés  0.13\n",
    "3       Chinese Restaurants  0.13\n",
    "4     Fast Food Restaurants  0.10\n",
    "5               Steakhouses  0.10\n",
    "6           Sandwich Places  0.03\n",
    "7  Chinese Breakfast Places  0.03\n",
    "8                    Diners  0.03\n",
    "9         Asian Restaurants  0.03\n",
    "\n",
    "\n",
    "# Town=< WOODLANDS >\n",
    "                   venue  freq\n",
    "0            Food Courts  0.20\n",
    "1   Japanese Restaurants  0.10\n",
    "2           Snack Places  0.10\n",
    "3                  Cafés  0.07\n",
    "4  Fast Food Restaurants  0.07\n",
    "5           Coffee Shops  0.07\n",
    "6    Chinese Restaurants  0.07\n",
    "7   American Restaurants  0.07\n",
    "8           Pizza Places  0.03\n",
    "9             BBQ Joints  0.03\n",
    "\n",
    "\n",
    "# Town=< YISHUN >\n",
    "                   venue  freq\n",
    "0            Food Courts  0.23\n",
    "1    Chinese Restaurants  0.13\n",
    "2  Fast Food Restaurants  0.07\n",
    "3          Noodle Houses  0.07\n",
    "4     Hainan Restaurants  0.07\n",
    "5           Coffee Shops  0.07\n",
    "6   Japanese Restaurants  0.03\n",
    "7                  Cafés  0.03\n",
    "8             Juice Bars  0.03\n",
    "9           Pastry Shops  0.03"
   ]
  },
  {
   "cell_type": "markdown",
   "metadata": {},
   "source": [
    "RESULTS: Categorized Result"
   ]
  },
  {
   "cell_type": "raw",
   "metadata": {},
   "source": [
    "Town\t1st Most Common Venue\t2nd Most Common Venue\t3rd Most Common Venue\t4th Most Common Venue\t5th Most Common Venue\t6th Most Common Venue\t7th Most Common Venue\t8th Most Common Venue\t9th Most Common Venue\t10th Most Common Venue\n",
    "0\tANG MO KIO\tFood Courts\tFast Food Restaurants\tBubble Tea Shops\tPastry Shops\tRestaurants\tCoffee Shops\tMiscellaneous Shops\tModern European Restaurants\tDessert Shops\tPharmacies\n",
    "1\tBEDOK\tFood Courts\tJapanese Restaurants\tNoodle Houses\tCoffee Shops\tFast Food Restaurants\tWings Joints\tBakeries\tBreakfast Spots\tBubble Tea Shops\tBurger Joints\n",
    "2\tBISHAN\tCoffee Shops\tChinese Restaurants\tFood Courts\tJapanese Restaurants\tFast Food Restaurants\tCafés\tBubble Tea Shops\tShaanxi Restaurants\tBurrito Places\tFried Chicken Joints\n",
    "3\tBUKIT BATOK\tFood Courts\tChinese Restaurants\tCoffee Shops\tBubble Tea Shops\tFast Food Restaurants\tIce Cream Shops\tAsian Restaurants\tGrocery Stores\tSandwich Places\tVegetarian / Vegan Restaurants\n",
    "4\tBUKIT MERAH\tCafés\tChinese Restaurants\tBakeries\tFood Courts\tAsian Restaurants\tCoffee Shops\tIce Cream Shops\tKorean Restaurants\tCupcake Shops\tHainan Restaurants"
   ]
  },
  {
   "cell_type": "markdown",
   "metadata": {},
   "source": [
    "RESULTS : k-means Cluster Results"
   ]
  },
  {
   "cell_type": "raw",
   "metadata": {},
   "source": [
    "\tTown\t1st Most Common Venue\t2nd Most Common Venue\t3rd Most Common Venue\t4th Most Common Venue\t5th Most Common Venue\t6th Most Common Venue\t7th Most Common Venue\t8th Most Common Venue\t9th Most Common Venue\t10th Most Common Venue\n",
    "0\tANG MO KIO\tFood Courts\tFast Food Restaurants\tBubble Tea Shops\tPastry Shops\tRestaurants\tCoffee Shops\tMiscellaneous Shops\tModern European Restaurants\tDessert Shops\tPharmacies\n",
    "1\tBEDOK\tFood Courts\tJapanese Restaurants\tNoodle Houses\tCoffee Shops\tFast Food Restaurants\tWings Joints\tBakeries\tBreakfast Spots\tBubble Tea Shops\tBurger Joints\n",
    "2\tBISHAN\tCoffee Shops\tChinese Restaurants\tFood Courts\tJapanese Restaurants\tFast Food Restaurants\tCafés\tBubble Tea Shops\tShaanxi Restaurants\tBurrito Places\tFried Chicken Joints\n",
    "3\tBUKIT BATOK\tFood Courts\tChinese Restaurants\tCoffee Shops\tBubble Tea Shops\tFast Food Restaurants\tIce Cream Shops\tAsian Restaurants\tGrocery Stores\tSandwich Places\tVegetarian / Vegan Restaurants\n",
    "4\tBUKIT MERAH\tCafés\tChinese Restaurants\tBakeries\tFood Courts\tAsian Restaurants\tCoffee Shops\tIce Cream Shops\tKorean Restaurants\tCupcake Shops\tHainan Restaurants"
   ]
  },
  {
   "cell_type": "markdown",
   "metadata": {},
   "source": [
    "RESULTS: Merged Cluster Table with rental prices."
   ]
  },
  {
   "cell_type": "raw",
   "metadata": {},
   "source": [
    "\tmedian_rent\tLatitude\tLongitude\tCluster Labels\t1st Most Common Venue\t2nd Most Common Venue\t3rd Most Common Venue\t4th Most Common Venue\t5th Most Common Venue\t6th Most Common Venue\t7th Most Common Venue\t8th Most Common Venue\t9th Most Common Venue\t10th Most Common Venue\n",
    "Town\t\t\t\t\t\t\t\t\t\t\t\t\t\t\n",
    "ANG MO KIO\t2033.333333\t1.369842\t103.846609\t0\tFood Courts\tFast Food Restaurants\tBubble Tea Shops\tPastry Shops\tRestaurants\tCoffee Shops\tMiscellaneous Shops\tModern European Restaurants\tDessert Shops\tPharmacies\n",
    "BEDOK\t2087.500000\t1.323976\t103.930216\t1\tFood Courts\tJapanese Restaurants\tNoodle Houses\tCoffee Shops\tFast Food Restaurants\tWings Joints\tBakeries\tBreakfast Spots\tBubble Tea Shops\tBurger Joints\n",
    "BISHAN\t2233.333333\t1.351455\t103.848263\t1\tCoffee Shops\tChinese Restaurants\tFood Courts\tJapanese Restaurants\tFast Food Restaurants\tCafés\tBubble Tea Shops\tShaanxi Restaurants\tBurrito Places\tFried Chicken Joints\n",
    "BUKIT BATOK\t1962.500000\t1.349057\t103.749591\t0\tFood Courts\tChinese Restaurants\tCoffee Shops\tBubble Tea Shops\tFast Food Restaurants\tIce Cream Shops\tAsian Restaurants\tGrocery Stores\tSandwich Places\tVegetarian / Vegan Restaurants\n",
    "BUKIT MERAH\t2162.500000\t1.280628\t103.830591\t4\tCafés\tChinese Restaurants\tBakeries\tFood Courts\tAsian Restaurants\tCoffee Shops\tIce Cream Shops\tKorean Restaurants\tCupcake Shops\tHainan Restaurants\n",
    "BUKIT PANJANG\t1737.500000\t1.377921\t103.771866\t1\tFood Courts\tNoodle Houses\tChinese Restaurants\tCoffee Shops\tAmerican Restaurants\tFood Trucks\tSeafood Restaurants\tPlazas\tBBQ Joints\tBakeries\n",
    "CENTRAL\t2450.000000\t1.290475\t103.852036\t1\tFood Courts\tSeafood Restaurants\tCafés\tCoffee Shops\tFast Food Restaurants\tBubble Tea Shops\tLounges\tPizza Places\tCantonese Restaurants\tRamen Restaurants\n",
    "CHOA CHU KANG\t1933.333333\t1.389260\t103.743728\t2\tFast Food Restaurants\tChinese Restaurants\tAsian Restaurants\tDessert Shops\tFood Courts\tCafés\tSushi Restaurants\tCoffee Shops\tRestaurants\tNoodle Houses\n",
    "CLEMENTI\t2263.333333\t1.314026\t103.762410\t0\tFood Courts\tChinese Restaurants\tFast Food Restaurants\tSoup Places\tDessert Shops\tCoffee Shops\tAmerican Restaurants\tIndian Restaurants\tItalian Restaurants\tFrench Restaurants\n",
    "GEYLANG\t2166.666667\t1.318186\t103.887056\t2\tChinese Restaurants\tFast Food Restaurants\tFood Courts\tNoodle Houses\tVegetarian / Vegan Restaurants\tAsian Restaurants\tDessert Shops\tBBQ Joints\tTaiwanese Restaurants\tSteakhouses\n",
    "HOUGANG\t1962.500000\t1.373360\t103.886091\t3\tCoffee Shops\tFood Courts\tNoodle Houses\tAsian Restaurants\tSteakhouses\tFast Food Restaurants\tSandwich Places\tIndian Restaurants\tItalian Restaurants\tFood Stands\n",
    "JURONG EAST\t2150.000000\t1.333115\t103.742297\t1\tChinese Restaurants\tFast Food Restaurants\tFood Courts\tThai Restaurants\tCoffee Shops\tCafés\tCafeterias\tHotpot Restaurants\tItalian Restaurants\tJapanese Restaurants\n",
    "JURONG WEST\t1975.000000\t1.339636\t103.707339\t0\tFast Food Restaurants\tFood Courts\tJapanese Restaurants\tAsian Restaurants\tChinese Restaurants\tKorean Restaurants\tCafés\tSandwich Places\tDim Sum Restaurants\tNoodle Houses\n",
    "KALLANG/WHAMPOA\t2300.000000\t1.319116\t103.866291\t2\tChinese Restaurants\tFood Courts\tAsian Restaurants\tFast Food Restaurants\tCoffee Shops\tCafeterias\tSeafood Restaurants\tDessert Shops\tJuice Bars\tCafés\n",
    "MARINE PARADE\t1950.000000\t1.302689\t103.907395\t1\tCoffee Shops\tCafés\tBakeries\tBistros\tFood Courts\tSeafood Restaurants\tNoodle Houses\tChinese Restaurants\tGerman Restaurants\tIndian Restaurants\n",
    "PASIR RIS\t2066.666667\t1.375989\t103.954360\t4\tCafés\tCoffee Shops\tBakeries\tFood Courts\tChinese Restaurants\tFast Food Restaurants\tSnack Places\tDiners\tHotpot Restaurants\tGreek Restaurants\n",
    "PUNGGOL\t1825.000000\t1.405255\t103.902354\t2\tFood Courts\tChinese Restaurants\tCafés\tFast Food Restaurants\tCoffee Shops\tPizza Places\tCantonese Restaurants\tRestaurants\tNoodle Houses\tSandwich Places\n",
    "QUEENSTOWN\t2162.500000\t1.294623\t103.806045\t2\tChinese Restaurants\tFood Courts\tCafés\tNoodle Houses\tDessert Shops\tIndian Restaurants\tChinese Breakfast Places\tVegetarian / Vegan Restaurants\tThai Restaurants\tBreakfast Spots\n",
    "SEMBAWANG\t1883.333333\t1.448065\t103.820760\t3\tCoffee Shops\tAsian Restaurants\tFood Courts\tBBQ Joints\tFast Food Restaurants\tWings Joints\tCafés\tHotpot Restaurants\tJapanese Restaurants\tJuice Bars\n",
    "SENGKANG\t1900.000000\t1.390949\t103.895175\t4\tCafés\tBakeries\tFast Food Restaurants\tFood Courts\tCoffee Shops\tCafeterias\tChinese Restaurants\tRamen Restaurants\tRestaurants\tDim Sum Restaurants\n",
    "SERANGOON\t2187.500000\t1.349807\t103.873771\t1\tFast Food Restaurants\tCoffee Shops\tCafés\tJapanese Restaurants\tFood Courts\tIndian Restaurants\tJapanese Curry Restaurants\tKorean Restaurants\tDumpling Restaurants\tNoodle Houses\n",
    "TAMPINES\t2075.000000\t1.354653\t103.943571\t0\tFood Courts\tCoffee Shops\tFast Food Restaurants\tHotpot Restaurants\tChinese Restaurants\tFried Chicken Joints\tDumpling Restaurants\tPortuguese Restaurants\tJapanese Restaurants\tRestaurants\n",
    "TOA PAYOH\t2210.000000\t1.335391\t103.849741\t3\tCoffee Shops\tFood Courts\tChinese Restaurants\tCafés\tFast Food Restaurants\tSteakhouses\tSandwich Places\tAsian Restaurants\tItalian Restaurants\tChinese Breakfast Places\n",
    "WOODLANDS\t1762.500000\t1.436897\t103.786216\t0\tFood Courts\tJapanese Restaurants\tSnack Places\tAmerican Restaurants\tCafés\tFast Food Restaurants\tCoffee Shops\tChinese Restaurants\tIndian Restaurants\tKorean Restaurants\n",
    "YISHUN\t1900.000000\t1.428136\t103.833694\t0\tFood Courts\tChinese Restaurants\tCoffee Shops\tFast Food Restaurants\tHainan Restaurants\tNoodle Houses\tSushi Restaurants\tPastry Shops\tFried Chicken Joints\tSoup Places"
   ]
  },
  {
   "cell_type": "raw",
   "metadata": {},
   "source": [
    "More files to download:\n",
    "    1. IBM Storage Link:sg_top_clusters.csv\n",
    "    2. IBM Storage Link:recommended_singapore_town_venues.csv\n",
    "    3. IBM Storage Link:singapore_food_venues.Category.csv"
   ]
  },
  {
   "cell_type": "markdown",
   "metadata": {},
   "source": [
    "IV. Discussion and Conclusion"
   ]
  },
  {
   "cell_type": "markdown",
   "metadata": {},
   "source": [
    "On this notebook, Analysis of best town venue recommendations based on Food venue category has been presented. Recommendations based on other user searches like available outdoor and recreation areas are also available. As singapore is a small country with a whole host of interesting venues scattered around the town, the information\n",
    "extracted in this notebook present on the town areas, will be a good supplement to web based recommendations for visitors to find out nearby venues of interest and be a useful aid in deciding a place to stay or where to go during their visits.\n",
    "\n",
    "Using Foursquare API, we have collected a good amount of venue recommendations in\n",
    "Singapore Towns. Sourcing from the venue recommendations from FourSquare has its\n",
    "limitation; The list of venues is not exhaustive list of all the available venues is the area.\n",
    "Furthermore, not all the venues found in the the area has a stored ratings. For this\n",
    "reason, the number of analyzed venues is only about 50% of all the available venues\n",
    "initially collected. The results therefore may significantly change, when more information\n",
    "are collected on those with missing data.\n",
    "The generated clusters from our results shows that there are very good and interesting\n",
    "places located in areas where the median rents are cheaper. This kind of results may be\n",
    "very interesting for travelers who are also on budget constraints. Our results also yielded\n",
    "some interesting findings. For instance, The initial assumption among websites\n",
    "providing recommendations is that the Central Area that have the highest median rent\n",
    "also have better food venues. The results however show that while Marine Parade, a\n",
    "cheaper location has better rated food courts. Result shows that most popular food\n",
    "venue among Singaporeans, residents and visitors are Food Courts, Coffee Shops and\n",
    "Fast Food Restaurants. The highest rated Food Courts are located in Marine Parade,\n",
    "and in Central Area.\n",
    "I will be providing a other supplementary Inferential Statics in the future about on these\n",
    "data collected and also update in a new notebook using other categories. For now, this\n",
    "completes the requirements for this task."
   ]
  },
  {
   "cell_type": "code",
   "execution_count": null,
   "metadata": {},
   "outputs": [],
   "source": []
  }
 ],
 "metadata": {
  "kernelspec": {
   "display_name": "Python 3",
   "language": "python",
   "name": "python3"
  },
  "language_info": {
   "codemirror_mode": {
    "name": "ipython",
    "version": 3
   },
   "file_extension": ".py",
   "mimetype": "text/x-python",
   "name": "python",
   "nbconvert_exporter": "python",
   "pygments_lexer": "ipython3",
   "version": "3.7.2"
  }
 },
 "nbformat": 4,
 "nbformat_minor": 2
}
